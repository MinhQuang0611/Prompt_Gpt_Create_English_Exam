{
 "cells": [
  {
   "cell_type": "code",
   "execution_count": 1,
   "metadata": {},
   "outputs": [],
   "source": [
    "from gramformer import Gramformer\n",
    "import torch"
   ]
  },
  {
   "cell_type": "code",
   "execution_count": 2,
   "metadata": {},
   "outputs": [
    {
     "name": "stderr",
     "output_type": "stream",
     "text": [
      "c:\\Users\\Acer\\AppData\\Local\\Programs\\Python\\Python312\\Lib\\site-packages\\tqdm\\auto.py:21: TqdmWarning: IProgress not found. Please update jupyter and ipywidgets. See https://ipywidgets.readthedocs.io/en/stable/user_install.html\n",
      "  from .autonotebook import tqdm as notebook_tqdm\n"
     ]
    },
    {
     "ename": "",
     "evalue": "",
     "output_type": "error",
     "traceback": [
      "\u001b[1;31mThe Kernel crashed while executing code in the current cell or a previous cell. \n",
      "\u001b[1;31mPlease review the code in the cell(s) to identify a possible cause of the failure. \n",
      "\u001b[1;31mClick <a href='https://aka.ms/vscodeJupyterKernelCrash'>here</a> for more info. \n",
      "\u001b[1;31mView Jupyter <a href='command:jupyter.viewOutput'>log</a> for further details."
     ]
    }
   ],
   "source": [
    "# Imports\n",
    "from gramformer import Gramformer\n",
    "import torch\n",
    "\n",
    "# Fix seed, also on GPU\n",
    "def fix_seed(value):\n",
    "  torch.manual_seed(value)\n",
    "  if torch.cuda.is_available():\n",
    "    torch.cuda.manual_seed_all(value)\n",
    "    \n",
    "fix_seed(42)\n",
    "\n",
    "# Initialize Gramformer\n",
    "grammar_correction = Gramformer(models = 1, use_gpu=False)\n",
    "\n",
    "# Incorrect phrases\n",
    "phrases = [\n",
    "  'How is you doing?',\n",
    "  'We is on the supermarket.',\n",
    "  'Hello you be in school for lecture.'\n",
    "]\n",
    "\n",
    "# Improve each phrase\n",
    "for phrase in phrases:\n",
    "  corrections = grammar_correction.correct(phrase, max_candidates=2)\n",
    "  print(f'[Incorrect phrase] {phrase}')\n",
    "  for i in range(len(corrections)):\n",
    "    print(f'[Suggestion #{i}] {corrections[i]}')\n",
    "  print('~'*100)"
   ]
  }
 ],
 "metadata": {
  "kernelspec": {
   "display_name": "Python 3",
   "language": "python",
   "name": "python3"
  },
  "language_info": {
   "codemirror_mode": {
    "name": "ipython",
    "version": 3
   },
   "file_extension": ".py",
   "mimetype": "text/x-python",
   "name": "python",
   "nbconvert_exporter": "python",
   "pygments_lexer": "ipython3",
   "version": "3.12.8"
  }
 },
 "nbformat": 4,
 "nbformat_minor": 2
}
